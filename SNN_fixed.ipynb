{
 "cells": [
  {
   "cell_type": "code",
   "execution_count": 1,
   "metadata": {},
   "outputs": [],
   "source": [
    "import matplotlib.pyplot as plt\n",
    "import torch\n",
    "import torch.nn as nn\n",
    "import torch.optim as optim\n",
    "import torchvision\n",
    "from torch.utils.data import DataLoader\n",
    "#from spikingjelly.activation_based import neuron, functional, surrogate, layer\n",
    "import torchvision.transforms as transforms\n",
    "from torch.utils.tensorboard import SummaryWriter"
   ]
  },
  {
   "cell_type": "code",
   "execution_count": 2,
   "metadata": {},
   "outputs": [],
   "source": [
    "from datasets import load_dataset\n",
    "# import torchaudio\n",
    "\n",
    "# data = load_dataset('google/speech_commands', 'v0.01', split=['train','test'], trust_remote_code=True)\n",
    "train_set = load_dataset('google/speech_commands', 'v0.01', split='train', trust_remote_code=True)\n",
    "test_set = load_dataset('google/speech_commands', 'v0.01', split='test', trust_remote_code=True)\n"
   ]
  },
  {
   "cell_type": "code",
   "execution_count": 3,
   "metadata": {},
   "outputs": [
    {
     "name": "stdout",
     "output_type": "stream",
     "text": [
      "tain_set:\n",
      " Dataset({\n",
      "    features: ['file', 'audio', 'label', 'is_unknown', 'speaker_id', 'utterance_id'],\n",
      "    num_rows: 51093\n",
      "})\n",
      "shape of train_set:  (51093, 6)\n"
     ]
    }
   ],
   "source": [
    "from torch.nn.utils.rnn import pad_sequence\n",
    "from sklearn.preprocessing import LabelEncoder\n",
    "\n",
    "# inspect the dataset\n",
    "print(\"tain_set:\\n\", train_set)\n",
    "print(\"shape of train_set: \", train_set.shape)\n",
    "\n",
    "# train_set = data['train']\n",
    "# train_set = torchaudio.datasets.SPEECHCOMMANDS(root='C:/Users/wasse/hello', download=True, subset='training')\n",
    "# test_set = torchaudio.datasets.SPEECHCOMMANDS(root='C:/Users/wasse/hello', download=True, subset='testing')\n",
    "\n",
    "max_length = 16000  # or your desired length\n",
    "# Assume `labels` contains the string labels from your dataset\n",
    "# all_labels = [item[2] for item in train_set] \n",
    "all_labels = train_set['label']\n",
    "label_encoder = LabelEncoder()\n",
    "encoded_labels = label_encoder.fit_transform(all_labels)\n",
    "\n",
    "\n",
    "def collate_fn(batch):\n",
    "    max_length = 16000\n",
    "    # waveforms, labels = zip(*[(item[0].squeeze()[:max_length], item[2]) for item in batch])\n",
    "    waveforms, labels = zip(*[(torch.tensor(item['audio']['array'][:max_length]) , item['label'])\n",
    "                              for item in batch])\n",
    "    # Ensure each waveform is 1D before padding\n",
    "    waveforms = [waveform if waveform.ndim == 1 else waveform.mean(dim=0) for waveform in waveforms]\n",
    "\n",
    "    #print(\"Shapes before padding:\", [w.shape for w in waveforms])  # Add this line\n",
    "\n",
    "    waveforms_padded = pad_sequence(waveforms, batch_first=True, padding_value=0)\n",
    "\n",
    "    labels = label_encoder.transform(labels)  # Encode the labels as integers\n",
    "\n",
    "    labels = torch.tensor(labels)\n",
    "    #print('done')\n",
    "    return waveforms_padded, labels\n",
    "\n",
    "\n",
    "train_loader = DataLoader(train_set, batch_size=64, shuffle=True, collate_fn=collate_fn, drop_last=True)\n",
    "test_loader = DataLoader(test_set, batch_size=64, shuffle=False, collate_fn=collate_fn, drop_last=True)"
   ]
  },
  {
   "cell_type": "code",
   "execution_count": 4,
   "metadata": {},
   "outputs": [
    {
     "name": "stdout",
     "output_type": "stream",
     "text": [
      "torch.Size([64, 16000]) torch.Size([64])\n",
      "tensor(6)\n"
     ]
    },
    {
     "data": {
      "text/plain": [
       "[<matplotlib.lines.Line2D at 0x70368d9d1610>]"
      ]
     },
     "execution_count": 4,
     "metadata": {},
     "output_type": "execute_result"
    },
    {
     "data": {
      "image/png": "[encoded data removed]",
      "text/plain": [
       "<Figure size 640x480 with 1 Axes>"
      ]
     },
     "metadata": {},
     "output_type": "display_data"
    }
   ],
   "source": [
    "# show samples\n",
    "sample_batch = next(iter(train_loader))\n",
    "# reinstialize the train_loader to get the first batch\n",
    "train_loader = DataLoader(train_set, batch_size=64, shuffle=True, collate_fn=collate_fn, drop_last=True)\n",
    "\n",
    "# inspect one sample and its label\n",
    "print(sample_batch[0].shape, sample_batch[1].shape)\n",
    "print(sample_batch[1][0])\n",
    "plt.plot(sample_batch[0][0].numpy())\n",
    "\n",
    "# # play the audio\n",
    "# import IPython.display as ipd\n",
    "# import scipy.io.wavfile\n",
    "# ipd.Audio(sample[0][0].numpy(), rate=16000)\n",
    "# scipy.io.wavfile.write('sample.wav', 16000, sample[0][0].numpy())"
   ]
  },
  {
   "cell_type": "code",
   "execution_count": 5,
   "metadata": {},
   "outputs": [],
   "source": [
    "from scipy.signal.windows import exponential, gaussian\n",
    "from scipy.signal import square, ShortTimeFFT\n",
    "\n",
    "sample_rate=16000\n",
    "g_std = 10      # standard deviation for Gaussian window in samples\n",
    "win_size = 40   # window size in samples\n",
    "win_gauss = gaussian(win_size, std=g_std, sym=True)  # symmetric Gaussian wind.\n",
    "SFT = ShortTimeFFT(win_gauss, hop=2, fs=sample_rate, mfft=2000, scale_to='psd')\n",
    "batch_size = 64\n",
    "num_samples = 16000\n",
    "\n",
    "duration = num_samples / sample_rate"
   ]
  },
  {
   "cell_type": "code",
   "execution_count": 6,
   "metadata": {},
   "outputs": [],
   "source": [
    "import numpy as np\n",
    "from scipy.signal import stft\n",
    "import librosa\n",
    "\n",
    "\"\"\"\n",
    "def mel_spectrogram(audio, sample_rate, n_mels=128, f_min=0, f_max=None):\n",
    "  if f_max is None:\n",
    "    f_max = sample_rate / 2\n",
    "  _, _, spectrogram = stft(audio, nperseg=512, noverlap=256, fs=sample_rate)\n",
    "  #print(\"spectrogram: \", spectrogram.shape)\n",
    "  # mel_spectrogram = mel(spectrogram, sr=sample_rate, n_mels=n_mels, fmin=f_min, fmax=f_max)\n",
    "  mel_spectrogram = mel(spectrogram, sr=sample_rate, n_mels=n_mels, fmin=f_min, fmax=f_max)\n",
    "  return mel_spectrogram\n",
    "\"\"\"\n",
    "class RBFNetwork:\n",
    "  def __init__(self, input_dim, num_centers, sigma):\n",
    "    self.centers = np.random.rand(num_centers, input_dim)  # Initialize centers randomly\n",
    "    #print(\"centers: \", self.centers.shape)\n",
    "    self.sigma = sigma\n",
    "\n",
    "  def rbf(self, x):\n",
    "    #print(\"x: \", x.shape)\n",
    "    #print(\"centers: \", self.centers.shape)\n",
    "    # return np.exp(-np.linalg.norm(x - self.centers, axis=1) ** 2 / (2 * self.sigma ** 2))\n",
    "    def compute_distances(xi):\n",
    "            # xi - self.centers creates a new array where each center is subtracted from xi\n",
    "            # np.linalg.norm(..., axis=1) computes the norm along the axis of the centers\n",
    "            return np.linalg.norm(xi - self.centers, axis=1)\n",
    "    norms = np.apply_along_axis(compute_distances, 1, x)\n",
    "    return np.exp(- norms ** 2 / (2 * self.sigma ** 2))\n",
    "\n",
    "  def predict(self, X):\n",
    "    #print(\"## predict ##\")\n",
    "    #print(\"X: \", X.shape)\n",
    "    y = self.rbf(X)\n",
    "    #print(\"y: \", y.shape)\n",
    "    # normalize to 0 - 1 along the batch dimension\n",
    "    try:\n",
    "      y = (y - np.min(y, axis=0)) / (np.max(y, axis=0) - np.min(y, axis=0))\n",
    "    except: # if the denominator is zero or close to zero\n",
    "      y = 1\n",
    "    return y\n",
    "\n",
    "def spectrogram(audio, sample_rate, n_mels=128, f_min=0, f_max=None):\n",
    "  if f_max is None:\n",
    "    f_max = sample_rate / 2\n",
    "  _, _, spectrogram = stft(audio, nperseg=512, noverlap=256, fs=sample_rate)\n",
    "  return spectrogram\n",
    "\n",
    "\n",
    "def mel(spectrogram, sr=44100, n_mels=128, fmin=0, fmax=None):\n",
    "  return librosa.feature.melspectrogram(S=spectrogram, sr=sr, n_mels=n_mels, fmin=fmin, fmax=fmax)\n",
    "\n",
    "def rbf_encode_audio(audio, sample_rate, SFT, n_mels=128, num_rbf=16, sigma=1.0):\n",
    "  # spec = spectrogram(audio, sample_rate, n_mels)\n",
    "  # spec = np.abs(spec)\n",
    "  # print('type of audio:', type(audio))\n",
    "  # print('audio shape:', audio.shape)\n",
    "\n",
    "  if type(audio) is torch.Tensor:\n",
    "    audio = audio.numpy()\n",
    "\n",
    "  spec = librosa.feature.melspectrogram(y=audio, sr=sample_rate, n_mels=n_mels, hop_length=252)\n",
    "  # print(\"shape spec: \", spec.shape)\n",
    "  \n",
    "  # mel_spec = SFT.spectrogram(audio)\n",
    "  #print(\"shape mel_spec: \", mel_spec.shape)\n",
    "  rbf_network = RBFNetwork(spec.shape[0], num_rbf, sigma)\n",
    "  rbf_activations = rbf_network.predict(spec.T)  # transpose to get the batch dimension first\n",
    "  return rbf_activations, spec"
   ]
  },
  {
   "cell_type": "code",
   "execution_count": 7,
   "metadata": {},
   "outputs": [],
   "source": [
    "import torch.nn.functional as F\n",
    "\n",
    "# poisson spikes from rbf activity\n",
    "def encode_to_spikes_rbf(data, sr, tau_m=20.0, R=1.0, V_th=1.0, V_reset=0.0):\n",
    "    batch_size = data.size(0)\n",
    "    num_features = 16\n",
    "    num_time_steps = 64\n",
    "    spikes = torch.zeros(batch_size, num_features, num_time_steps, device=data.device)\n",
    "    rbfs = []\n",
    "    mel_specs = []\n",
    "    \n",
    "    for i in range(batch_size):\n",
    "        rbf_activations, mel_spec = rbf_encode_audio(data[i], sr, SFT=SFT, num_rbf=16, n_mels=16)\n",
    "        rbfs.append(rbf_activations)\n",
    "        mel_specs.append(mel_spec)\n",
    "\n",
    "        # print(\"rbf_activations: \", rbf_activations.shape)\n",
    "        # print(\"mel_spec: \", mel_spec.shape)\n",
    "        # print(\"min max rbf_activations: \", np.min(rbf_activations), np.max(rbf_activations))\n",
    "        # print(\"min max mel_spec: \", np.min(mel_spec), np.max(mel_spec))\n",
    "\n",
    "        spike_prob_scale = 1.7\n",
    "\n",
    "        rbf_activations_traversed = rbf_activations.T\n",
    "        spik_probs = rbf_activations_traversed / np.max(rbf_activations_traversed, axis=1, keepdims=True) * spike_prob_scale\n",
    "        spike_trains = np.random.poisson(spik_probs[...] * duration, size=rbf_activations_traversed.shape)\n",
    "        spike_trains = np.clip(spike_trains, 0, 1)\n",
    "        spikes[i] = torch.from_numpy(spike_trains)\n",
    "\n",
    "    return spikes\n",
    "\n",
    "def encode_to_spikes_melspec(data, sr, tau_m=20.0, R=1.0, V_th=1.0, V_reset=0.0):\n",
    "    batch_size = data.size(0)\n",
    "    num_features = 16\n",
    "    num_time_steps = 64\n",
    "    spikes = torch.zeros(batch_size, num_features, num_time_steps, device=data.device)\n",
    "    rbfs = []\n",
    "    mel_specs = []\n",
    "    \n",
    "    for i in range(batch_size):\n",
    "        rbf_activations, mel_spec = rbf_encode_audio(data[i], sr, SFT=SFT, num_rbf=16, n_mels=16)\n",
    "        rbfs.append(rbf_activations)\n",
    "        mel_specs.append(mel_spec)\n",
    "\n",
    "        # print(\"rbf_activations: \", rbf_activations.shape)\n",
    "        # print(\"mel_spec: \", mel_spec.shape)\n",
    "        # print(\"min max rbf_activations: \", np.min(rbf_activations), np.max(rbf_activations))\n",
    "        # print(\"min max mel_spec: \", np.min(mel_spec), np.max(mel_spec))\n",
    "\n",
    "        spike_prob_scale = 1.7\n",
    "\n",
    "        # TODO get spikes from the mel_spectograms\n",
    "        # first normalize mel_spec\n",
    "        mel_spec_min = mel_spec.min()\n",
    "        mel_spec_max = mel_spec.max()\n",
    "        mel_spec_norm = (mel_spec - mel_spec_min) / (mel_spec_max - mel_spec_min)\n",
    "        mel_spec_scaled = mel_spec_norm * spike_prob_scale\n",
    "\n",
    "        # Generate spike trains based on scaled mel spectrogram\n",
    "        # For simplicity, using Poisson distribution to model spike generation\n",
    "        # Each value in mel_spec_scaled represents a spike rate\n",
    "        mel_spec_tensor = torch.tensor(mel_spec_scaled, dtype=torch.float32)\n",
    "        spike_trains = torch.poisson(mel_spec_tensor)\n",
    "\n",
    "        # Clamp values to 0 or 1 because Poisson can generate values >1\n",
    "        spike_trains = torch.clamp(spike_trains, max=1)\n",
    "\n",
    "        # Assign generated spike trains to spikes tensor for the batch\n",
    "        spikes[i] = spike_trains\n",
    "    return spikes\n",
    "\n",
    "def encode_to_spikes_TC(data, sr, TCs):\n",
    "    pass\n"
   ]
  },
  {
   "cell_type": "code",
   "execution_count": 8,
   "metadata": {},
   "outputs": [
    {
     "name": "stdout",
     "output_type": "stream",
     "text": [
      "rbf spikes:\n",
      "torch.Size([64, 16, 64])\n",
      "unique values in generated spikes:\n",
      " tensor([0., 1.])\n"
     ]
    },
    {
     "data": {
      "image/png": "[encoded data removed]",
      "text/plain": [
       "<Figure size 640x480 with 2 Axes>"
      ]
     },
     "metadata": {},
     "output_type": "display_data"
    },
    {
     "name": "stdout",
     "output_type": "stream",
     "text": [
      "mel spikes:\n",
      "torch.Size([64, 16, 64])\n",
      "unique values in generated spikes:\n",
      " tensor([0., 1.])\n"
     ]
    },
    {
     "data": {
      "text/plain": [
       "<matplotlib.colorbar.Colorbar at 0x7036f618da90>"
      ]
     },
     "execution_count": 8,
     "metadata": {},
     "output_type": "execute_result"
    },
    {
     "data": {
      "image/png": "[encoded data removed]",
      "text/plain": [
       "<Figure size 640x480 with 2 Axes>"
      ]
     },
     "metadata": {},
     "output_type": "display_data"
    }
   ],
   "source": [
    "sample_inputs = sample_batch[0]\n",
    "sample_spikes_rbf = encode_to_spikes_rbf(sample_inputs, 16000)\n",
    "sample_spikes_mel = encode_to_spikes_melspec(sample_inputs, 16000)\n",
    "\n",
    "\n",
    "# inspect spikes\n",
    "print(\"rbf spikes:\")\n",
    "print(sample_spikes_rbf.shape)\n",
    "# print(sample_spikes.unsqueeze(1).shape)\n",
    "print(\"unique values in generated spikes:\\n\", sample_spikes_rbf.unique())\n",
    "\n",
    "# sample spike train\n",
    "plt.imshow(sample_spikes_rbf[0], aspect='auto', origin='lower', cmap='magma')\n",
    "plt.title('Spike Trains')\n",
    "plt.xlabel('Timesteps')\n",
    "plt.ylabel('Neuron Index')\n",
    "plt.colorbar()\n",
    "\n",
    "plt.tight_layout()\n",
    "plt.show()\n",
    "\n",
    "print(\"mel spikes:\")\n",
    "print(sample_spikes_mel.shape)\n",
    "# print(sample_spikes.unsqueeze(1).shape)\n",
    "print(\"unique values in generated spikes:\\n\", sample_spikes_mel.unique())\n",
    "\n",
    "# sample spike train\n",
    "plt.imshow(sample_spikes_mel[0], aspect='auto', origin='lower', cmap='magma')\n",
    "plt.title('Spike Trains')\n",
    "plt.xlabel('Timesteps')\n",
    "plt.ylabel('Neuron Index')\n",
    "plt.colorbar()\n"
   ]
  },
  {
   "cell_type": "code",
   "execution_count": null,
   "metadata": {},
   "outputs": [],
   "source": [
    "# old versio with bug fixed and dimensions set to 16 to fit with tuning curves\n",
    "from models import customSNet_0\n",
    "import snntorch as snn\n",
    "from snntorch import functional as SF\n",
    "from tqdm.notebook import tqdm\n",
    "\n",
    "\n",
    "num_classes = 35\n",
    "num_steps = 20\n",
    "model = customSNet_0(num_steps = num_steps, beta = 0.9, threshold=1.0, spike_grad=snn.surrogate.fast_sigmoid(slope=25), num_class=num_classes)\n",
    "optimizer = torch.optim.Adam(model.parameters(), lr=0.001)\n",
    "loss_fn = torch.nn.CrossEntropyLoss()\n",
    "sr = 16000  # Number of time steps to simulate\n",
    "batch_size = 64\n",
    "train_loss_hist = []\n",
    "train_accu_hist = []\n",
    "train_accu_hist_temp = []\n",
    "\n",
    "n_epochs = 10\n",
    "\n",
    "iterCount = 0\n",
    "for epoch in tqdm(range(n_epochs), desc='Epoch', total=n_epochs, leave=True):\n",
    "    for inputs, labels in tqdm(train_loader, desc='Iteration', total=len(train_loader), leave=False):\n",
    "        optimizer.zero_grad()\n",
    "        spikes = encode_to_spikes_rbf(inputs, sr)\n",
    "        spike_input = spikes.unsqueeze(1)\n",
    "\n",
    "        model.train()\n",
    "        spk_rec, mem_rec = model(spike_input)\n",
    "        labels = labels.long()\n",
    "        loss_val = torch.zeros((1), dtype=torch.float)\n",
    "        for step in tqdm(range(num_steps), desc='Time step', total=num_steps, leave=False):\n",
    "            loss_val += loss_fn(mem_rec[step], labels)\n",
    "\n",
    "        # Gradient calculation + weight update\n",
    "        loss_val.backward()\n",
    "        optimizer.step()\n",
    "\n",
    "        # Store loss history for future plotting\n",
    "        avg_loss = loss_val.item()/len(train_loader)\n",
    "        train_loss_hist.append(loss_val.item())\n",
    "        acc = SF.accuracy_rate(spk_rec, labels)\n",
    "        acc2 = SF.accuracy_temporal(spk_rec, labels)\n",
    "        train_accu_hist.append(acc)\n",
    "        train_accu_hist_temp.append(acc2)\n",
    "        iterCount +=1\n",
    "    print(f' Epoch: {epoch} | Train Loss: {train_loss_hist[-1]:.3f} | Avg Loss: {avg_loss:.3f} | Accuracy: {train_accu_hist[-1]:.3f} | Accuracy: {train_accu_hist_temp[-1]:.3f} | Iteration: {iterCount}')"
   ]
  },
  {
   "cell_type": "code",
   "execution_count": 40,
   "metadata": {},
   "outputs": [
    {
     "data": {
      "application/vnd.jupyter.widget-view+json": {
       "model_id": "abe08a8946f9407da3fb68fdfe6c1e27",
       "version_major": 2,
       "version_minor": 0
      },
      "text/plain": [
       "Epoch:   0%|          | 0/3 [00:00<?, ?it/s]"
      ]
     },
     "metadata": {},
     "output_type": "display_data"
    },
    {
     "data": {
      "application/vnd.jupyter.widget-view+json": {
       "model_id": "85fd848a864b4ae8bc45c9ee81a846e5",
       "version_major": 2,
       "version_minor": 0
      },
      "text/plain": [
       "Iteration:   0%|          | 0/798 [00:00<?, ?it/s]"
      ]
     },
     "metadata": {},
     "output_type": "display_data"
    },
    {
     "name": "stderr",
     "output_type": "stream",
     "text": [
      "/tmp/ipykernel_731749/537872403.py:39: RuntimeWarning: invalid value encountered in divide\n",
      "  y = (y - np.min(y, axis=0)) / (np.max(y, axis=0) - np.min(y, axis=0))\n"
     ]
    },
    {
     "ename": "ValueError",
     "evalue": "lam value too large",
     "output_type": "error",
     "traceback": [
      "\u001b[0;31m---------------------------------------------------------------------------\u001b[0m",
      "\u001b[0;31mValueError\u001b[0m                                Traceback (most recent call last)",
      "Cell \u001b[0;32mIn[40], line 28\u001b[0m\n\u001b[1;32m     26\u001b[0m running_loss \u001b[38;5;241m=\u001b[39m \u001b[38;5;241m0.0\u001b[39m\n\u001b[1;32m     27\u001b[0m \u001b[38;5;28;01mfor\u001b[39;00m data, labels \u001b[38;5;129;01min\u001b[39;00m tqdm(train_loader, desc\u001b[38;5;241m=\u001b[39m\u001b[38;5;124m'\u001b[39m\u001b[38;5;124mIteration\u001b[39m\u001b[38;5;124m'\u001b[39m, total\u001b[38;5;241m=\u001b[39m\u001b[38;5;28mlen\u001b[39m(train_loader), leave\u001b[38;5;241m=\u001b[39m\u001b[38;5;28;01mFalse\u001b[39;00m):\n\u001b[0;32m---> 28\u001b[0m     spikes \u001b[38;5;241m=\u001b[39m encode_to_spikes_rbf(data, sr)\n\u001b[1;32m     29\u001b[0m     spike_input \u001b[38;5;241m=\u001b[39m spikes\u001b[38;5;241m.\u001b[39munsqueeze(\u001b[38;5;241m1\u001b[39m)\n\u001b[1;32m     31\u001b[0m     optimizer\u001b[38;5;241m.\u001b[39mzero_grad()\n",
      "Cell \u001b[0;32mIn[34], line 26\u001b[0m, in \u001b[0;36mencode_to_spikes_rbf\u001b[0;34m(data, sr, tau_m, R, V_th, V_reset)\u001b[0m\n\u001b[1;32m     24\u001b[0m rbf_activations_traversed \u001b[38;5;241m=\u001b[39m rbf_activations\u001b[38;5;241m.\u001b[39mT\n\u001b[1;32m     25\u001b[0m spik_probs \u001b[38;5;241m=\u001b[39m rbf_activations_traversed \u001b[38;5;241m/\u001b[39m np\u001b[38;5;241m.\u001b[39mmax(rbf_activations_traversed, axis\u001b[38;5;241m=\u001b[39m\u001b[38;5;241m1\u001b[39m, keepdims\u001b[38;5;241m=\u001b[39m\u001b[38;5;28;01mTrue\u001b[39;00m) \u001b[38;5;241m*\u001b[39m spike_prob_scale\n\u001b[0;32m---> 26\u001b[0m spike_trains \u001b[38;5;241m=\u001b[39m np\u001b[38;5;241m.\u001b[39mrandom\u001b[38;5;241m.\u001b[39mpoisson(spik_probs[\u001b[38;5;241m.\u001b[39m\u001b[38;5;241m.\u001b[39m\u001b[38;5;241m.\u001b[39m] \u001b[38;5;241m*\u001b[39m duration, size\u001b[38;5;241m=\u001b[39mrbf_activations_traversed\u001b[38;5;241m.\u001b[39mshape)\n\u001b[1;32m     27\u001b[0m spike_trains \u001b[38;5;241m=\u001b[39m np\u001b[38;5;241m.\u001b[39mclip(spike_trains, \u001b[38;5;241m0\u001b[39m, \u001b[38;5;241m1\u001b[39m)\n\u001b[1;32m     28\u001b[0m spikes[i] \u001b[38;5;241m=\u001b[39m torch\u001b[38;5;241m.\u001b[39mfrom_numpy(spike_trains)\n",
      "File \u001b[0;32mnumpy/random/mtrand.pyx:3669\u001b[0m, in \u001b[0;36mnumpy.random.mtrand.RandomState.poisson\u001b[0;34m()\u001b[0m\n",
      "File \u001b[0;32m_common.pyx:883\u001b[0m, in \u001b[0;36mnumpy.random._common.disc\u001b[0;34m()\u001b[0m\n",
      "File \u001b[0;32m_common.pyx:680\u001b[0m, in \u001b[0;36mnumpy.random._common.discrete_broadcast_d\u001b[0;34m()\u001b[0m\n",
      "File \u001b[0;32m_common.pyx:411\u001b[0m, in \u001b[0;36mnumpy.random._common.check_array_constraint\u001b[0;34m()\u001b[0m\n",
      "\u001b[0;31mValueError\u001b[0m: lam value too large"
     ]
    }
   ],
   "source": [
    "# updated version with batch norm and decaying learning rate\n",
    "from models import customSNet_1\n",
    "import torch\n",
    "import torch.nn as nn\n",
    "import torch.optim as optim\n",
    "import snntorch as snn\n",
    "from torch.optim import lr_scheduler\n",
    "\n",
    "# Hyperparameters\n",
    "num_steps = 20\n",
    "beta = 0.9\n",
    "num_class = 35\n",
    "learning_rate = 0.001\n",
    "num_epochs = 10  # Adjust based on your needs\n",
    "\n",
    "# Initialize model, loss, optimizer, and scheduler\n",
    "model = customSNet_1(num_steps=num_steps, beta=beta, num_class=num_class)\n",
    "loss_fn = nn.CrossEntropyLoss()\n",
    "optimizer = optim.Adam(model.parameters(), lr=learning_rate)\n",
    "scheduler = lr_scheduler.StepLR(optimizer, step_size=2, gamma=0.5)\n",
    "\n",
    "\n",
    "# Example Training Loop with Validation\n",
    "for epoch in tqdm(range(num_epochs), desc='Epoch', total=num_epochs, leave=True):\n",
    "    model.train()\n",
    "    running_loss = 0.0\n",
    "    for data, labels in tqdm(train_loader, desc='Iteration', total=len(train_loader), leave=False):\n",
    "        spikes = encode_to_spikes_rbf(data, sr)\n",
    "        spike_input = spikes.unsqueeze(1)\n",
    "\n",
    "        optimizer.zero_grad()\n",
    "        output, _ = model(spike_input)\n",
    "        # Aggregate outputs over time steps, e.g., mean\n",
    "        output_mean = output.mean(dim=0)\n",
    "        labels = labels.long()\n",
    "        loss = loss_fn(output_mean, labels)\n",
    "        loss.backward()\n",
    "        optimizer.step()\n",
    "        running_loss += loss.item() * spike_input.size(0)\n",
    "    \n",
    "    epoch_loss = running_loss / len(train_loader.dataset)\n",
    "    \n",
    "    # Validation phase\n",
    "    model.eval()\n",
    "    val_correct = 0\n",
    "    val_total = 0\n",
    "    with torch.no_grad():\n",
    "        for data, labels in test_loader:\n",
    "            spikes = encode_to_spikes_rbf(data, sr)\n",
    "            spike_input = spikes.unsqueeze(1)\n",
    "            output, _ = model(spike_input)\n",
    "            output_mean = output.mean(dim=0)\n",
    "            preds = output_mean.argmax(dim=1)\n",
    "            labels = labels.long()\n",
    "            val_correct += (preds == labels).sum().item()\n",
    "            val_total += labels.size(0)\n",
    "    \n",
    "    val_accuracy = val_correct / val_total\n",
    "    \n",
    "    # Step the scheduler\n",
    "    scheduler.step()\n",
    "    \n",
    "    print(f\"Epoch {epoch+1}/{num_epochs}, Loss: {epoch_loss:.4f}, Val Accuracy: {val_accuracy:.4f}, Learning Rate: {scheduler.optimizer.param_groups[0]['lr']:.6f}\")"
   ]
  }
 ],
 "metadata": {
  "kernelspec": {
   "display_name": "Python 3",
   "language": "python",
   "name": "python3"
  },
  "language_info": {
   "codemirror_mode": {
    "name": "ipython",
    "version": 3
   },
   "file_extension": ".py",
   "mimetype": "text/x-python",
   "name": "python",
   "nbconvert_exporter": "python",
   "pygments_lexer": "ipython3",
   "version": "3.12.3"
  }
 },
 "nbformat": 4,
 "nbformat_minor": 2
}
